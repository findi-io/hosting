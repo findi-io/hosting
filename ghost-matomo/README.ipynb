{
 "cells": [
  {
   "attachments": {},
   "cell_type": "markdown",
   "id": "63dbeb6f",
   "metadata": {},
   "source": [
    "use the kubernetes command below to check deployment status. Try to click the execution button in the menu to refresh the status. read kubernetes guide for more information."
   ]
  },
  {
   "cell_type": "code",
   "execution_count": 1,
   "id": "42daa2db-6af7-485b-9f8f-4c6e98e88e22",
   "metadata": {},
   "outputs": [
    {
     "name": "stdout",
     "output_type": "stream",
     "text": [
      "NAME                                                                    READY   STATUS    RESTARTS      AGE\n",
      "ghost-55df577bd6-z47c4                                                  1/1     Running   1 (44m ago)   44m\n",
      "ghost-gateway-678599cb97-f7hhm                                          1/1     Running   0             21m\n",
      "jupyter-nk-2esmallbee-40gmail-2ecom--f93097458c3a4c7d8dc1a16f082b5ba7   1/1     Running   0             2m12s\n",
      "matomo-9cc667cb8-z8tjf                                                  1/1     Running   0             13m\n",
      "maxscale-d97bfbc8d-rtrqd                                                1/1     Running   0             52m\n",
      "mysql-primary-0                                                         1/1     Running   0             52m\n",
      "mysql-secondary-0                                                       1/1     Running   0             52m\n",
      "smtp4dev-6646987f45-s6k79                                               1/1     Running   0             52m\n"
     ]
    }
   ],
   "source": [
    "kubectl get pods"
   ]
  },
  {
   "cell_type": "code",
   "execution_count": 3,
   "id": "35d5a350-c066-4bfb-bd79-32fc8349fb16",
   "metadata": {},
   "outputs": [
    {
     "name": "stdout",
     "output_type": "stream",
     "text": [
      "NAME                       TYPE        CLUSTER-IP       EXTERNAL-IP   PORT(S)             AGE\n",
      "ghost                      ClusterIP   10.100.235.160   <none>        80/TCP              53m\n",
      "ghost-gateway              ClusterIP   10.100.99.31     <none>        8080/TCP            53m\n",
      "matomo                     ClusterIP   10.100.252.70    <none>        80/TCP,443/TCP      53m\n",
      "maxscale                   ClusterIP   10.100.8.23      <none>        3306/TCP,8989/TCP   53m\n",
      "mysql-primary              ClusterIP   10.100.133.15    <none>        3306/TCP            53m\n",
      "mysql-primary-headless     ClusterIP   None             <none>        3306/TCP            53m\n",
      "mysql-secondary            ClusterIP   10.100.99.191    <none>        3306/TCP            53m\n",
      "mysql-secondary-headless   ClusterIP   None             <none>        3306/TCP            53m\n",
      "smtp4dev                   ClusterIP   10.100.56.130    <none>        25/TCP,80/TCP       53m\n"
     ]
    }
   ],
   "source": [
    "kubectl get service"
   ]
  },
  {
   "cell_type": "code",
   "execution_count": 2,
   "id": "47a7019b-3c98-48d4-973d-0c7feceef990",
   "metadata": {},
   "outputs": [
    {
     "name": "stdout",
     "output_type": "stream",
     "text": [
      "NAME               CLASS   HOSTS                        ADDRESS                                                                  PORTS   AGE\n",
      "ghost-gateway      nginx   ghost.test777.findi.biz      acc066e32ad944d079a1f7bbd0178d0e-672765648.us-east-1.elb.amazonaws.com   80      53m\n",
      "matomo             nginx   matomo.test777.findi.biz     acc066e32ad944d079a1f7bbd0178d0e-672765648.us-east-1.elb.amazonaws.com   80      52m\n",
      "maxscale-ingress   nginx   maxscale.test777.findi.biz   acc066e32ad944d079a1f7bbd0178d0e-672765648.us-east-1.elb.amazonaws.com   80      53m\n",
      "smtp4dev-ingress   nginx   smtp4dev.test777.findi.biz   acc066e32ad944d079a1f7bbd0178d0e-672765648.us-east-1.elb.amazonaws.com   80      53m\n"
     ]
    }
   ],
   "source": [
    "kubectl get ingress"
   ]
  },
  {
   "cell_type": "code",
   "execution_count": null,
   "id": "50f59264-2b29-4b7e-9b6a-030f0fe0b566",
   "metadata": {},
   "outputs": [],
   "source": []
  }
 ],
 "metadata": {
  "kernelspec": {
   "display_name": "Bash",
   "language": "bash",
   "name": "bash"
  },
  "language_info": {
   "codemirror_mode": "shell",
   "file_extension": ".sh",
   "mimetype": "text/x-sh",
   "name": "bash"
  }
 },
 "nbformat": 4,
 "nbformat_minor": 5
}
